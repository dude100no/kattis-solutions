{
 "cells": [
  {
   "cell_type": "code",
   "execution_count": 17,
   "metadata": {},
   "outputs": [
    {
     "name": "stdout",
     "output_type": "stream",
     "text": [
      "000\n",
      "('0', '0')\n",
      "1\n",
      "2\n",
      "3\n",
      "001\n",
      "('0', '1')\n",
      "1\n",
      "2\n",
      "2\n",
      "100\n",
      "('1', '0')\n",
      "0\n",
      "1\n",
      "2\n",
      "101\n",
      "('1', '1')\n",
      "0\n",
      "1\n",
      "1\n",
      "-5\n"
     ]
    }
   ],
   "source": [
    "import re\n",
    "from itertools import product\n",
    "\n",
    "def replace_str_index(text,index=0,replacement=''):\n",
    "    return f'{text[:index]}{replacement}{text[index+1:]}'\n",
    "\n",
    "# num = '10?101?1010??110'\n",
    "num = '?0?'\n",
    "\n",
    "q_indexes = [i.start() for i in re.finditer('\\?', num)]\n",
    "q_perms = list(product(['0', '1'], repeat=len(q_indexes)))\n",
    "\n",
    "perm_count = 0\n",
    "\n",
    "for perm_i in range(len(q_perms)):\n",
    "    temp_num = num\n",
    "    for q_i in range(len(q_indexes)):\n",
    "        temp_num = replace_str_index(temp_num, q_indexes[q_i], q_perms[perm_i][q_i])\n",
    "    print(temp_num)\n",
    "    print(q_perms[perm_i])\n",
    "    zero_count = 0\n",
    "    q_count = 0\n",
    "    total_zero = q_perms[perm_i].count('0') + num.count('0')\n",
    "    for i in range(len(num)):\n",
    "        if temp_num[i] == '0':\n",
    "            zero_count += 1\n",
    "            if i != zero_count:\n",
    "                perm_count += i - zero_count\n",
    "        print(zero_count)\n",
    "\n",
    "print(perm_count)"
   ]
  },
  {
   "cell_type": "code",
   "execution_count": 1,
   "metadata": {},
   "outputs": [
    {
     "name": "stdout",
     "output_type": "stream",
     "text": [
      "376144\n"
     ]
    }
   ],
   "source": [
    "num = input()\n",
    "\n",
    "MOD = 10 ** 9 + 7\n",
    "MEM = [1, 2, 4, 8, 16, 32, 64, 128, 256, 512, 1024, 2048, 4096]\n",
    "\n",
    "def pow2(n):\n",
    "    while n >= len(MEM):\n",
    "        MEM.append((MEM[-1]  * 2) % MOD)\n",
    "    return MEM[n]\n",
    "\n",
    "zeros, questions, total = 0, 0, 0\n",
    "for e in reversed(num):\n",
    "    if e == \"1\":\n",
    "        z = zeros * pow2(questions)\n",
    "        q = 0 if questions == 0 else questions * pow2(questions - 1)\n",
    "        total = (total + z + q) % MOD\n",
    "    elif e == \"0\":\n",
    "        zeros += 1\n",
    "    else:\n",
    "        total *= 2\n",
    "        z = zeros * pow2(questions)\n",
    "        q = 0 if questions == 0 else questions * pow2(questions - 1)\n",
    "        total = (total + z + q) % MOD\n",
    "        questions += 1\n",
    "        \n",
    "print(total)"
   ]
  },
  {
   "cell_type": "code",
   "execution_count": null,
   "metadata": {},
   "outputs": [],
   "source": []
  }
 ],
 "metadata": {
  "kernelspec": {
   "display_name": "Python 3.9.5 64-bit",
   "language": "python",
   "name": "python3"
  },
  "language_info": {
   "codemirror_mode": {
    "name": "ipython",
    "version": 3
   },
   "file_extension": ".py",
   "mimetype": "text/x-python",
   "name": "python",
   "nbconvert_exporter": "python",
   "pygments_lexer": "ipython3",
   "version": "3.9.5"
  },
  "orig_nbformat": 4,
  "vscode": {
   "interpreter": {
    "hash": "4d5babd99a4df02ec48601645cc9db139875b0384e29e5b3b3c9a97142b6b19c"
   }
  }
 },
 "nbformat": 4,
 "nbformat_minor": 2
}
