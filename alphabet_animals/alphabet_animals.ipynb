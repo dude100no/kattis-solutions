{
 "cells": [
  {
   "cell_type": "code",
   "execution_count": 3,
   "metadata": {},
   "outputs": [
    {
     "name": "stdout",
     "output_type": "stream",
     "text": [
      "eagle\n"
     ]
    }
   ],
   "source": [
    "p1 = input()\n",
    "first_l = p1[0]\n",
    "last_l = p1[-1]\n",
    "\n",
    "no_words = int(input())\n",
    "\n",
    "word_list = []\n",
    "first_letter_list = []\n",
    "last_letter_list = []\n",
    "for i in range(no_words):\n",
    "    w = input()\n",
    "    if w[0] == last_l:\n",
    "        word_list.append(w)\n",
    "        first_letter_list.append(w[0])\n",
    "        last_letter_list.append(w[-1])\n",
    "\n",
    "found = False\n",
    "\n",
    "if len(word_list) == 0:\n",
    "    found = True\n",
    "    print(\"?\")\n",
    "\n",
    "if not found:\n",
    "    for i in range(len(word_list)):\n",
    "        if last_letter_list[i] in first_letter_list[:i] + first_letter_list[i+1:]:\n",
    "            found = True\n",
    "            print(word_list[i] + \"!\")\n",
    "\n",
    "if not found:\n",
    "    print(word_list[0])"
   ]
  },
  {
   "cell_type": "code",
   "execution_count": null,
   "metadata": {},
   "outputs": [],
   "source": [
    "p1 = input()\n",
    "first_l = p1[0]\n",
    "last_l = p1[-1]\n",
    "\n",
    "word_list = []\n",
    "first_letter_list = []\n",
    "last_letter_list = []\n",
    "\n",
    "no_words = int(input())\n",
    "\n",
    "for i in range(no_words):\n",
    "    w = input()\n",
    "    word_list.append(w)\n",
    "    first_letter_list.append(w[0])\n",
    "    last_letter_list.append(w[-1])\n",
    "\n",
    "for i in range(no_words):\n",
    "    if first_letter_list[i] == last_l:\n",
    "        if answer == \"?\":\n",
    "            answer = \"?\"\n",
    "        continue\n",
    "\n",
    "    if last_letter_list[i] not in first_letter_list[:i] + first_letter_list[i+1:] and last_l not in first_letter_list[:i] + first_letter_list[i+1:]:\n",
    "        answer = word_list[i] + \"!\"\n",
    "        break\n",
    "\n",
    "    answer = word_list[i]\n",
    "\n",
    "print(answer)"
   ]
  }
 ],
 "metadata": {
  "kernelspec": {
   "display_name": "Python 3.9.5 64-bit",
   "language": "python",
   "name": "python3"
  },
  "language_info": {
   "codemirror_mode": {
    "name": "ipython",
    "version": 3
   },
   "file_extension": ".py",
   "mimetype": "text/x-python",
   "name": "python",
   "nbconvert_exporter": "python",
   "pygments_lexer": "ipython3",
   "version": "3.9.5"
  },
  "orig_nbformat": 4,
  "vscode": {
   "interpreter": {
    "hash": "4d5babd99a4df02ec48601645cc9db139875b0384e29e5b3b3c9a97142b6b19c"
   }
  }
 },
 "nbformat": 4,
 "nbformat_minor": 2
}
